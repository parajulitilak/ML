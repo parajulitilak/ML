{
  "nbformat": 4,
  "nbformat_minor": 0,
  "metadata": {
    "colab": {
      "provenance": [],
      "authorship_tag": "ABX9TyM6WoyQmNLs0grXmlC6l66j",
      "include_colab_link": true
    },
    "kernelspec": {
      "name": "python3",
      "display_name": "Python 3"
    },
    "language_info": {
      "name": "python"
    }
  },
  "cells": [
    {
      "cell_type": "markdown",
      "metadata": {
        "id": "view-in-github",
        "colab_type": "text"
      },
      "source": [
        "<a href=\"https://colab.research.google.com/github/parajulitilak/ML/blob/main/outliar_detection.ipynb\" target=\"_parent\"><img src=\"https://colab.research.google.com/assets/colab-badge.svg\" alt=\"Open In Colab\"/></a>"
      ]
    },
    {
      "cell_type": "markdown",
      "source": [
        "***OUTLIER DETECTION***"
      ],
      "metadata": {
        "id": "gcE6n7ptkyRA"
      }
    },
    {
      "cell_type": "markdown",
      "source": [
        "importing the libraries\n",
        "---"
      ],
      "metadata": {
        "id": "tl9mkMdik_84"
      }
    },
    {
      "cell_type": "code",
      "source": [
        "import numpy as np\n",
        "import matplotlib.pyplot as plt\n",
        "import pandas as pd\n",
        "import seaborn as sns"
      ],
      "metadata": {
        "id": "HKZwwhBSlB_R"
      },
      "execution_count": 1,
      "outputs": []
    },
    {
      "cell_type": "markdown",
      "source": [
        "importing the datasets\n",
        "---"
      ],
      "metadata": {
        "id": "kXXSkrcSlGrq"
      }
    },
    {
      "cell_type": "code",
      "source": [
        "dataset = pd.read_csv('sample_data/diabetes.csv')"
      ],
      "metadata": {
        "id": "U2TQNhCllInK"
      },
      "execution_count": 83,
      "outputs": []
    },
    {
      "cell_type": "markdown",
      "source": [
        "**Showing head**"
      ],
      "metadata": {
        "id": "DFsIrMJ7dzMq"
      }
    },
    {
      "cell_type": "code",
      "source": [
        "dataset.head()"
      ],
      "metadata": {
        "colab": {
          "base_uri": "https://localhost:8080/",
          "height": 206
        },
        "id": "8bIJvwiqtRz-",
        "outputId": "687cc2ee-98d5-4c99-fe90-e818799bc817"
      },
      "execution_count": 84,
      "outputs": [
        {
          "output_type": "execute_result",
          "data": {
            "text/plain": [
              "   Pregnancies  Glucose  BloodPressure  SkinThickness  Insulin   BMI  \\\n",
              "0            6      148             72             35        0  33.6   \n",
              "1            1       85             66             29        0  26.6   \n",
              "2            8      183             64              0        0  23.3   \n",
              "3            1       89             66             23       94  28.1   \n",
              "4            0      137             40             35      168  43.1   \n",
              "\n",
              "   DiabetesPedigreeFunction  Age  Outcome  \n",
              "0                     0.627   50        1  \n",
              "1                     0.351   31        0  \n",
              "2                     0.672   32        1  \n",
              "3                     0.167   21        0  \n",
              "4                     2.288   33        1  "
            ],
            "text/html": [
              "\n",
              "  <div id=\"df-5b639603-c7e9-413d-9162-7ea0c6b86937\">\n",
              "    <div class=\"colab-df-container\">\n",
              "      <div>\n",
              "<style scoped>\n",
              "    .dataframe tbody tr th:only-of-type {\n",
              "        vertical-align: middle;\n",
              "    }\n",
              "\n",
              "    .dataframe tbody tr th {\n",
              "        vertical-align: top;\n",
              "    }\n",
              "\n",
              "    .dataframe thead th {\n",
              "        text-align: right;\n",
              "    }\n",
              "</style>\n",
              "<table border=\"1\" class=\"dataframe\">\n",
              "  <thead>\n",
              "    <tr style=\"text-align: right;\">\n",
              "      <th></th>\n",
              "      <th>Pregnancies</th>\n",
              "      <th>Glucose</th>\n",
              "      <th>BloodPressure</th>\n",
              "      <th>SkinThickness</th>\n",
              "      <th>Insulin</th>\n",
              "      <th>BMI</th>\n",
              "      <th>DiabetesPedigreeFunction</th>\n",
              "      <th>Age</th>\n",
              "      <th>Outcome</th>\n",
              "    </tr>\n",
              "  </thead>\n",
              "  <tbody>\n",
              "    <tr>\n",
              "      <th>0</th>\n",
              "      <td>6</td>\n",
              "      <td>148</td>\n",
              "      <td>72</td>\n",
              "      <td>35</td>\n",
              "      <td>0</td>\n",
              "      <td>33.6</td>\n",
              "      <td>0.627</td>\n",
              "      <td>50</td>\n",
              "      <td>1</td>\n",
              "    </tr>\n",
              "    <tr>\n",
              "      <th>1</th>\n",
              "      <td>1</td>\n",
              "      <td>85</td>\n",
              "      <td>66</td>\n",
              "      <td>29</td>\n",
              "      <td>0</td>\n",
              "      <td>26.6</td>\n",
              "      <td>0.351</td>\n",
              "      <td>31</td>\n",
              "      <td>0</td>\n",
              "    </tr>\n",
              "    <tr>\n",
              "      <th>2</th>\n",
              "      <td>8</td>\n",
              "      <td>183</td>\n",
              "      <td>64</td>\n",
              "      <td>0</td>\n",
              "      <td>0</td>\n",
              "      <td>23.3</td>\n",
              "      <td>0.672</td>\n",
              "      <td>32</td>\n",
              "      <td>1</td>\n",
              "    </tr>\n",
              "    <tr>\n",
              "      <th>3</th>\n",
              "      <td>1</td>\n",
              "      <td>89</td>\n",
              "      <td>66</td>\n",
              "      <td>23</td>\n",
              "      <td>94</td>\n",
              "      <td>28.1</td>\n",
              "      <td>0.167</td>\n",
              "      <td>21</td>\n",
              "      <td>0</td>\n",
              "    </tr>\n",
              "    <tr>\n",
              "      <th>4</th>\n",
              "      <td>0</td>\n",
              "      <td>137</td>\n",
              "      <td>40</td>\n",
              "      <td>35</td>\n",
              "      <td>168</td>\n",
              "      <td>43.1</td>\n",
              "      <td>2.288</td>\n",
              "      <td>33</td>\n",
              "      <td>1</td>\n",
              "    </tr>\n",
              "  </tbody>\n",
              "</table>\n",
              "</div>\n",
              "      <button class=\"colab-df-convert\" onclick=\"convertToInteractive('df-5b639603-c7e9-413d-9162-7ea0c6b86937')\"\n",
              "              title=\"Convert this dataframe to an interactive table.\"\n",
              "              style=\"display:none;\">\n",
              "        \n",
              "  <svg xmlns=\"http://www.w3.org/2000/svg\" height=\"24px\"viewBox=\"0 0 24 24\"\n",
              "       width=\"24px\">\n",
              "    <path d=\"M0 0h24v24H0V0z\" fill=\"none\"/>\n",
              "    <path d=\"M18.56 5.44l.94 2.06.94-2.06 2.06-.94-2.06-.94-.94-2.06-.94 2.06-2.06.94zm-11 1L8.5 8.5l.94-2.06 2.06-.94-2.06-.94L8.5 2.5l-.94 2.06-2.06.94zm10 10l.94 2.06.94-2.06 2.06-.94-2.06-.94-.94-2.06-.94 2.06-2.06.94z\"/><path d=\"M17.41 7.96l-1.37-1.37c-.4-.4-.92-.59-1.43-.59-.52 0-1.04.2-1.43.59L10.3 9.45l-7.72 7.72c-.78.78-.78 2.05 0 2.83L4 21.41c.39.39.9.59 1.41.59.51 0 1.02-.2 1.41-.59l7.78-7.78 2.81-2.81c.8-.78.8-2.07 0-2.86zM5.41 20L4 18.59l7.72-7.72 1.47 1.35L5.41 20z\"/>\n",
              "  </svg>\n",
              "      </button>\n",
              "      \n",
              "  <style>\n",
              "    .colab-df-container {\n",
              "      display:flex;\n",
              "      flex-wrap:wrap;\n",
              "      gap: 12px;\n",
              "    }\n",
              "\n",
              "    .colab-df-convert {\n",
              "      background-color: #E8F0FE;\n",
              "      border: none;\n",
              "      border-radius: 50%;\n",
              "      cursor: pointer;\n",
              "      display: none;\n",
              "      fill: #1967D2;\n",
              "      height: 32px;\n",
              "      padding: 0 0 0 0;\n",
              "      width: 32px;\n",
              "    }\n",
              "\n",
              "    .colab-df-convert:hover {\n",
              "      background-color: #E2EBFA;\n",
              "      box-shadow: 0px 1px 2px rgba(60, 64, 67, 0.3), 0px 1px 3px 1px rgba(60, 64, 67, 0.15);\n",
              "      fill: #174EA6;\n",
              "    }\n",
              "\n",
              "    [theme=dark] .colab-df-convert {\n",
              "      background-color: #3B4455;\n",
              "      fill: #D2E3FC;\n",
              "    }\n",
              "\n",
              "    [theme=dark] .colab-df-convert:hover {\n",
              "      background-color: #434B5C;\n",
              "      box-shadow: 0px 1px 3px 1px rgba(0, 0, 0, 0.15);\n",
              "      filter: drop-shadow(0px 1px 2px rgba(0, 0, 0, 0.3));\n",
              "      fill: #FFFFFF;\n",
              "    }\n",
              "  </style>\n",
              "\n",
              "      <script>\n",
              "        const buttonEl =\n",
              "          document.querySelector('#df-5b639603-c7e9-413d-9162-7ea0c6b86937 button.colab-df-convert');\n",
              "        buttonEl.style.display =\n",
              "          google.colab.kernel.accessAllowed ? 'block' : 'none';\n",
              "\n",
              "        async function convertToInteractive(key) {\n",
              "          const element = document.querySelector('#df-5b639603-c7e9-413d-9162-7ea0c6b86937');\n",
              "          const dataTable =\n",
              "            await google.colab.kernel.invokeFunction('convertToInteractive',\n",
              "                                                     [key], {});\n",
              "          if (!dataTable) return;\n",
              "\n",
              "          const docLinkHtml = 'Like what you see? Visit the ' +\n",
              "            '<a target=\"_blank\" href=https://colab.research.google.com/notebooks/data_table.ipynb>data table notebook</a>'\n",
              "            + ' to learn more about interactive tables.';\n",
              "          element.innerHTML = '';\n",
              "          dataTable['output_type'] = 'display_data';\n",
              "          await google.colab.output.renderOutput(dataTable, element);\n",
              "          const docLink = document.createElement('div');\n",
              "          docLink.innerHTML = docLinkHtml;\n",
              "          element.appendChild(docLink);\n",
              "        }\n",
              "      </script>\n",
              "    </div>\n",
              "  </div>\n",
              "  "
            ]
          },
          "metadata": {},
          "execution_count": 84
        }
      ]
    },
    {
      "cell_type": "markdown",
      "source": [
        "**Another method to set features and dependent variable**"
      ],
      "metadata": {
        "id": "pHTuph-BeBSS"
      }
    },
    {
      "cell_type": "code",
      "source": [
        "features = dataset.drop('Outcome', axis=1)\n",
        "features.head()"
      ],
      "metadata": {
        "id": "WxIGps9jtrkE",
        "colab": {
          "base_uri": "https://localhost:8080/",
          "height": 206
        },
        "outputId": "e666833c-daea-452f-d2b2-98b2ab620452"
      },
      "execution_count": 85,
      "outputs": [
        {
          "output_type": "execute_result",
          "data": {
            "text/plain": [
              "   Pregnancies  Glucose  BloodPressure  SkinThickness  Insulin   BMI  \\\n",
              "0            6      148             72             35        0  33.6   \n",
              "1            1       85             66             29        0  26.6   \n",
              "2            8      183             64              0        0  23.3   \n",
              "3            1       89             66             23       94  28.1   \n",
              "4            0      137             40             35      168  43.1   \n",
              "\n",
              "   DiabetesPedigreeFunction  Age  \n",
              "0                     0.627   50  \n",
              "1                     0.351   31  \n",
              "2                     0.672   32  \n",
              "3                     0.167   21  \n",
              "4                     2.288   33  "
            ],
            "text/html": [
              "\n",
              "  <div id=\"df-163a8eda-41ea-49b5-b994-9c6b02113b05\">\n",
              "    <div class=\"colab-df-container\">\n",
              "      <div>\n",
              "<style scoped>\n",
              "    .dataframe tbody tr th:only-of-type {\n",
              "        vertical-align: middle;\n",
              "    }\n",
              "\n",
              "    .dataframe tbody tr th {\n",
              "        vertical-align: top;\n",
              "    }\n",
              "\n",
              "    .dataframe thead th {\n",
              "        text-align: right;\n",
              "    }\n",
              "</style>\n",
              "<table border=\"1\" class=\"dataframe\">\n",
              "  <thead>\n",
              "    <tr style=\"text-align: right;\">\n",
              "      <th></th>\n",
              "      <th>Pregnancies</th>\n",
              "      <th>Glucose</th>\n",
              "      <th>BloodPressure</th>\n",
              "      <th>SkinThickness</th>\n",
              "      <th>Insulin</th>\n",
              "      <th>BMI</th>\n",
              "      <th>DiabetesPedigreeFunction</th>\n",
              "      <th>Age</th>\n",
              "    </tr>\n",
              "  </thead>\n",
              "  <tbody>\n",
              "    <tr>\n",
              "      <th>0</th>\n",
              "      <td>6</td>\n",
              "      <td>148</td>\n",
              "      <td>72</td>\n",
              "      <td>35</td>\n",
              "      <td>0</td>\n",
              "      <td>33.6</td>\n",
              "      <td>0.627</td>\n",
              "      <td>50</td>\n",
              "    </tr>\n",
              "    <tr>\n",
              "      <th>1</th>\n",
              "      <td>1</td>\n",
              "      <td>85</td>\n",
              "      <td>66</td>\n",
              "      <td>29</td>\n",
              "      <td>0</td>\n",
              "      <td>26.6</td>\n",
              "      <td>0.351</td>\n",
              "      <td>31</td>\n",
              "    </tr>\n",
              "    <tr>\n",
              "      <th>2</th>\n",
              "      <td>8</td>\n",
              "      <td>183</td>\n",
              "      <td>64</td>\n",
              "      <td>0</td>\n",
              "      <td>0</td>\n",
              "      <td>23.3</td>\n",
              "      <td>0.672</td>\n",
              "      <td>32</td>\n",
              "    </tr>\n",
              "    <tr>\n",
              "      <th>3</th>\n",
              "      <td>1</td>\n",
              "      <td>89</td>\n",
              "      <td>66</td>\n",
              "      <td>23</td>\n",
              "      <td>94</td>\n",
              "      <td>28.1</td>\n",
              "      <td>0.167</td>\n",
              "      <td>21</td>\n",
              "    </tr>\n",
              "    <tr>\n",
              "      <th>4</th>\n",
              "      <td>0</td>\n",
              "      <td>137</td>\n",
              "      <td>40</td>\n",
              "      <td>35</td>\n",
              "      <td>168</td>\n",
              "      <td>43.1</td>\n",
              "      <td>2.288</td>\n",
              "      <td>33</td>\n",
              "    </tr>\n",
              "  </tbody>\n",
              "</table>\n",
              "</div>\n",
              "      <button class=\"colab-df-convert\" onclick=\"convertToInteractive('df-163a8eda-41ea-49b5-b994-9c6b02113b05')\"\n",
              "              title=\"Convert this dataframe to an interactive table.\"\n",
              "              style=\"display:none;\">\n",
              "        \n",
              "  <svg xmlns=\"http://www.w3.org/2000/svg\" height=\"24px\"viewBox=\"0 0 24 24\"\n",
              "       width=\"24px\">\n",
              "    <path d=\"M0 0h24v24H0V0z\" fill=\"none\"/>\n",
              "    <path d=\"M18.56 5.44l.94 2.06.94-2.06 2.06-.94-2.06-.94-.94-2.06-.94 2.06-2.06.94zm-11 1L8.5 8.5l.94-2.06 2.06-.94-2.06-.94L8.5 2.5l-.94 2.06-2.06.94zm10 10l.94 2.06.94-2.06 2.06-.94-2.06-.94-.94-2.06-.94 2.06-2.06.94z\"/><path d=\"M17.41 7.96l-1.37-1.37c-.4-.4-.92-.59-1.43-.59-.52 0-1.04.2-1.43.59L10.3 9.45l-7.72 7.72c-.78.78-.78 2.05 0 2.83L4 21.41c.39.39.9.59 1.41.59.51 0 1.02-.2 1.41-.59l7.78-7.78 2.81-2.81c.8-.78.8-2.07 0-2.86zM5.41 20L4 18.59l7.72-7.72 1.47 1.35L5.41 20z\"/>\n",
              "  </svg>\n",
              "      </button>\n",
              "      \n",
              "  <style>\n",
              "    .colab-df-container {\n",
              "      display:flex;\n",
              "      flex-wrap:wrap;\n",
              "      gap: 12px;\n",
              "    }\n",
              "\n",
              "    .colab-df-convert {\n",
              "      background-color: #E8F0FE;\n",
              "      border: none;\n",
              "      border-radius: 50%;\n",
              "      cursor: pointer;\n",
              "      display: none;\n",
              "      fill: #1967D2;\n",
              "      height: 32px;\n",
              "      padding: 0 0 0 0;\n",
              "      width: 32px;\n",
              "    }\n",
              "\n",
              "    .colab-df-convert:hover {\n",
              "      background-color: #E2EBFA;\n",
              "      box-shadow: 0px 1px 2px rgba(60, 64, 67, 0.3), 0px 1px 3px 1px rgba(60, 64, 67, 0.15);\n",
              "      fill: #174EA6;\n",
              "    }\n",
              "\n",
              "    [theme=dark] .colab-df-convert {\n",
              "      background-color: #3B4455;\n",
              "      fill: #D2E3FC;\n",
              "    }\n",
              "\n",
              "    [theme=dark] .colab-df-convert:hover {\n",
              "      background-color: #434B5C;\n",
              "      box-shadow: 0px 1px 3px 1px rgba(0, 0, 0, 0.15);\n",
              "      filter: drop-shadow(0px 1px 2px rgba(0, 0, 0, 0.3));\n",
              "      fill: #FFFFFF;\n",
              "    }\n",
              "  </style>\n",
              "\n",
              "      <script>\n",
              "        const buttonEl =\n",
              "          document.querySelector('#df-163a8eda-41ea-49b5-b994-9c6b02113b05 button.colab-df-convert');\n",
              "        buttonEl.style.display =\n",
              "          google.colab.kernel.accessAllowed ? 'block' : 'none';\n",
              "\n",
              "        async function convertToInteractive(key) {\n",
              "          const element = document.querySelector('#df-163a8eda-41ea-49b5-b994-9c6b02113b05');\n",
              "          const dataTable =\n",
              "            await google.colab.kernel.invokeFunction('convertToInteractive',\n",
              "                                                     [key], {});\n",
              "          if (!dataTable) return;\n",
              "\n",
              "          const docLinkHtml = 'Like what you see? Visit the ' +\n",
              "            '<a target=\"_blank\" href=https://colab.research.google.com/notebooks/data_table.ipynb>data table notebook</a>'\n",
              "            + ' to learn more about interactive tables.';\n",
              "          element.innerHTML = '';\n",
              "          dataTable['output_type'] = 'display_data';\n",
              "          await google.colab.output.renderOutput(dataTable, element);\n",
              "          const docLink = document.createElement('div');\n",
              "          docLink.innerHTML = docLinkHtml;\n",
              "          element.appendChild(docLink);\n",
              "        }\n",
              "      </script>\n",
              "    </div>\n",
              "  </div>\n",
              "  "
            ]
          },
          "metadata": {},
          "execution_count": 85
        }
      ]
    },
    {
      "cell_type": "code",
      "source": [
        "target = dataset['Outcome']\n",
        "print(target)"
      ],
      "metadata": {
        "id": "Co6VP1DNue2x",
        "colab": {
          "base_uri": "https://localhost:8080/"
        },
        "outputId": "439e9f75-57d6-4e8a-cfce-6e555c3c6e33"
      },
      "execution_count": 86,
      "outputs": [
        {
          "output_type": "stream",
          "name": "stdout",
          "text": [
            "0      1\n",
            "1      0\n",
            "2      1\n",
            "3      0\n",
            "4      1\n",
            "      ..\n",
            "763    0\n",
            "764    0\n",
            "765    0\n",
            "766    1\n",
            "767    0\n",
            "Name: Outcome, Length: 768, dtype: int64\n"
          ]
        }
      ]
    },
    {
      "cell_type": "code",
      "source": [
        "features.info()"
      ],
      "metadata": {
        "colab": {
          "base_uri": "https://localhost:8080/"
        },
        "id": "XORI-Y1BVM5J",
        "outputId": "b7301869-4c9a-4608-88d1-c5f82a751ad3"
      },
      "execution_count": 87,
      "outputs": [
        {
          "output_type": "stream",
          "name": "stdout",
          "text": [
            "<class 'pandas.core.frame.DataFrame'>\n",
            "RangeIndex: 768 entries, 0 to 767\n",
            "Data columns (total 8 columns):\n",
            " #   Column                    Non-Null Count  Dtype  \n",
            "---  ------                    --------------  -----  \n",
            " 0   Pregnancies               768 non-null    int64  \n",
            " 1   Glucose                   768 non-null    int64  \n",
            " 2   BloodPressure             768 non-null    int64  \n",
            " 3   SkinThickness             768 non-null    int64  \n",
            " 4   Insulin                   768 non-null    int64  \n",
            " 5   BMI                       768 non-null    float64\n",
            " 6   DiabetesPedigreeFunction  768 non-null    float64\n",
            " 7   Age                       768 non-null    int64  \n",
            "dtypes: float64(2), int64(6)\n",
            "memory usage: 48.1 KB\n"
          ]
        }
      ]
    },
    {
      "cell_type": "markdown",
      "source": [
        "Seperating features and dependent variable.\n",
        "---"
      ],
      "metadata": {
        "id": "a2Ono2n7nptY"
      }
    },
    {
      "cell_type": "code",
      "source": [
        "# x = dataset.iloc[:, :-1]\n",
        "# y = dataset.iloc[:, -1].values"
      ],
      "metadata": {
        "id": "ZHUnRXV8EvPE"
      },
      "execution_count": null,
      "outputs": []
    },
    {
      "cell_type": "markdown",
      "source": [
        "for normal distribution\n",
        "---\n",
        "Use empirical relations of Normal distribution.\n",
        "The data points that fall below mean-3*(sigma) or above mean+3*(sigma) are outliers, where mean and sigma are the average value and standard deviation of a particular column."
      ],
      "metadata": {
        "id": "96j5ONBylcNl"
      }
    },
    {
      "cell_type": "markdown",
      "source": [
        "**Function to detect and remove outliers using (IQR & Z-SCORE) ,(TRIM &CAPP)**"
      ],
      "metadata": {
        "id": "6FjjzzDOmuz8"
      }
    },
    {
      "cell_type": "code",
      "source": [
        "# # Define a function to remove outliers using IQR\n",
        "# def detect_and_remove_outliers(dataset, remove_outlier='trim', method ='IQR' ):\n",
        "#     '''\n",
        "#         documenation :\n",
        "        \n",
        "#     '''\n",
        "#     df = dataset\n",
        "#     #IQR method\n",
        "#     if method == 'IQR':\n",
        "#       iqr_out = []\n",
        "#       q1 = df.quantile(0.25)\n",
        "#       q3 = df.quantile(0.75)\n",
        "#       iqr = q3-q1\n",
        "#       Lower_tail = q1 - 1.5 * iqr\n",
        "#       Upper_tail = q3 + 1.5 * iqr\n",
        "#       print(Lower_tail)\n",
        "#       # for i in df:\n",
        "#       #     if i > Upper_tail or i < Lower_tail:\n",
        "#       #         iqr_out.append(i)\n",
        "#       # print(\"Outliers:\",iqr_out)\n",
        "\n",
        "#       # return iqr_out\n",
        "\n",
        "#     #Z-score method\n",
        "#     else:\n",
        "#       z_out =[]\n",
        "#       m = np.mean(df)\n",
        "#       sd = np.std(df)\n",
        "#       for i in df: \n",
        "#           z = (i-m)/sd\n",
        "#           if np.abs(z) > 3: \n",
        "#               z_out.append(i)\n",
        "#       print(\"Outliers:\",z_out)\n",
        "\n",
        "#       # return z_out\n",
        "\n",
        "#       #this if satement is for trimming dataset\n",
        "#       if remove_outlier:\n",
        "#         data == dataset\n",
        "#         for col in cols:\n",
        "#           i=1\n",
        "#           col_upper_limit, col_lower_limit = find_quantile_boundaries(data,col ,1.5)\n",
        "          \n",
        "#           outliers_col = np.where(data[col] > col_upper_limit, True,\n",
        "#                                   np.where(data[col] < col_lower_limit, True, False))\n",
        "          \n",
        "#           if i==1:\n",
        "#               a=outliers_col\n",
        "\n",
        "#           else:\n",
        "#               a=a+outliers_col\n",
        "\n",
        "#           i=2\n",
        "#         data_trimmed =data.loc[~(a)]\n",
        "#         print(\"shape data\",data.shape)\n",
        "#         print(\"shape trimmed\", data_trimmed.shape)\n",
        "#         print(\"*********\")\n",
        "#         return(data_trimmed)\n",
        "\n",
        "\n",
        "#       #this else statement is for capping dataset\n",
        "#       else:\n",
        "#         #write code for capping\n",
        "#         windsoriser = Winsorizer(distribution='skewed', \n",
        "#                       tail='both', \n",
        "#                       fold=1.5,\n",
        "#                       variables=cols)\n",
        "\n",
        "#         windsoriser.fit(data)\n",
        "#         data_capped = windsoriser.transform(data)\n",
        "#         print(\"TAIL CAPS LEFT\",windsoriser.left_tail_caps_)\n",
        "#         print(\"TAIL CAPS RIGHT\",windsoriser.right_tail_caps_)\n",
        "\n",
        "#         return (data_capped)"
      ],
      "metadata": {
        "id": "xOyP3TfyQEHl"
      },
      "execution_count": null,
      "outputs": []
    },
    {
      "cell_type": "markdown",
      "source": [
        "**Function call**"
      ],
      "metadata": {
        "id": "PggHW6QngXOr"
      }
    },
    {
      "cell_type": "code",
      "source": [
        "# data_trimmed = detect_and_remove_outliers(remove_outlier= 'trim')"
      ],
      "metadata": {
        "id": "XNlnp0KYi4Yg"
      },
      "execution_count": null,
      "outputs": []
    },
    {
      "cell_type": "code",
      "source": [
        "def outlier_handle(all_features, method='iqr', handle_outlier = 'trim'):\n",
        "  features = all_features\n",
        "\n",
        "  print(features.shape)\n",
        "  columns = features.columns\n",
        "  for column in columns:\n",
        "\n",
        "    if method =='iqr':\n",
        "      q1 = features[column].quantile(0.25)\n",
        "      q3 = features[column].quantile(0.75)\n",
        "      iqr = q3-q1\n",
        "      Lower_tail = q1 - 1.5 * iqr\n",
        "      Upper_tail = q3 + 1.5 * iqr\n",
        "\n",
        "  \n",
        "      if handle_outlier == 'trim':\n",
        "        features = features[(features[column]>Lower_tail) & (features[column]<Upper_tail)]      \n",
        "      \n",
        "      else:\n",
        "        #capping\n",
        "        features[column] = np.where(features[column] > Upper_tail, Upper_tail,\n",
        "                                     np.where(features[column] < Lower_tail, Lower_tail, features[column] ))\n",
        "      \n",
        "    else:\n",
        "      zscore_data['mean'] = np.mean(column)\n",
        "      zscore_data['sd'] =  np.std(column)\n",
        "\n",
        "      if handle_outlier == 'trim':\n",
        "        pass\n",
        "\n",
        "      else:\n",
        "        pass\n",
        "  print(features.shape)\n",
        "\n",
        "  # plt.boxplot(features['BMI'])\n",
        "  return features\n"
      ],
      "metadata": {
        "id": "s7O9D_4Ckjpc"
      },
      "execution_count": 202,
      "outputs": []
    },
    {
      "cell_type": "code",
      "source": [
        "clean_features = outlier_handle(features,handle_outlier='cap')"
      ],
      "metadata": {
        "colab": {
          "base_uri": "https://localhost:8080/"
        },
        "id": "Lemdw1GlkySo",
        "outputId": "7f4dc3e6-5d22-4778-9875-73f6cd2bbc98"
      },
      "execution_count": 206,
      "outputs": [
        {
          "output_type": "stream",
          "name": "stdout",
          "text": [
            "(768, 8)\n",
            "(768, 8)\n"
          ]
        }
      ]
    },
    {
      "cell_type": "code",
      "source": [
        "clean_features.head()"
      ],
      "metadata": {
        "colab": {
          "base_uri": "https://localhost:8080/",
          "height": 206
        },
        "id": "7S9AOamvtQMN",
        "outputId": "203872ff-d0b4-4ec5-af39-642e905f769e"
      },
      "execution_count": 178,
      "outputs": [
        {
          "output_type": "execute_result",
          "data": {
            "text/plain": [
              "   Pregnancies  Glucose  BloodPressure  SkinThickness  Insulin   BMI  \\\n",
              "0            6      148             72             35        0  33.6   \n",
              "1            1       85             66             29        0  26.6   \n",
              "2            8      183             64              0        0  23.3   \n",
              "3            1       89             66             23       94  28.1   \n",
              "4            0      137             40             35      168  43.1   \n",
              "\n",
              "   DiabetesPedigreeFunction  Age  \n",
              "0                     0.627   50  \n",
              "1                     0.351   31  \n",
              "2                     0.672   32  \n",
              "3                     0.167   21  \n",
              "4                     2.288   33  "
            ],
            "text/html": [
              "\n",
              "  <div id=\"df-0e283042-3373-4430-9cac-aaea4c6540a9\">\n",
              "    <div class=\"colab-df-container\">\n",
              "      <div>\n",
              "<style scoped>\n",
              "    .dataframe tbody tr th:only-of-type {\n",
              "        vertical-align: middle;\n",
              "    }\n",
              "\n",
              "    .dataframe tbody tr th {\n",
              "        vertical-align: top;\n",
              "    }\n",
              "\n",
              "    .dataframe thead th {\n",
              "        text-align: right;\n",
              "    }\n",
              "</style>\n",
              "<table border=\"1\" class=\"dataframe\">\n",
              "  <thead>\n",
              "    <tr style=\"text-align: right;\">\n",
              "      <th></th>\n",
              "      <th>Pregnancies</th>\n",
              "      <th>Glucose</th>\n",
              "      <th>BloodPressure</th>\n",
              "      <th>SkinThickness</th>\n",
              "      <th>Insulin</th>\n",
              "      <th>BMI</th>\n",
              "      <th>DiabetesPedigreeFunction</th>\n",
              "      <th>Age</th>\n",
              "    </tr>\n",
              "  </thead>\n",
              "  <tbody>\n",
              "    <tr>\n",
              "      <th>0</th>\n",
              "      <td>6</td>\n",
              "      <td>148</td>\n",
              "      <td>72</td>\n",
              "      <td>35</td>\n",
              "      <td>0</td>\n",
              "      <td>33.6</td>\n",
              "      <td>0.627</td>\n",
              "      <td>50</td>\n",
              "    </tr>\n",
              "    <tr>\n",
              "      <th>1</th>\n",
              "      <td>1</td>\n",
              "      <td>85</td>\n",
              "      <td>66</td>\n",
              "      <td>29</td>\n",
              "      <td>0</td>\n",
              "      <td>26.6</td>\n",
              "      <td>0.351</td>\n",
              "      <td>31</td>\n",
              "    </tr>\n",
              "    <tr>\n",
              "      <th>2</th>\n",
              "      <td>8</td>\n",
              "      <td>183</td>\n",
              "      <td>64</td>\n",
              "      <td>0</td>\n",
              "      <td>0</td>\n",
              "      <td>23.3</td>\n",
              "      <td>0.672</td>\n",
              "      <td>32</td>\n",
              "    </tr>\n",
              "    <tr>\n",
              "      <th>3</th>\n",
              "      <td>1</td>\n",
              "      <td>89</td>\n",
              "      <td>66</td>\n",
              "      <td>23</td>\n",
              "      <td>94</td>\n",
              "      <td>28.1</td>\n",
              "      <td>0.167</td>\n",
              "      <td>21</td>\n",
              "    </tr>\n",
              "    <tr>\n",
              "      <th>4</th>\n",
              "      <td>0</td>\n",
              "      <td>137</td>\n",
              "      <td>40</td>\n",
              "      <td>35</td>\n",
              "      <td>168</td>\n",
              "      <td>43.1</td>\n",
              "      <td>2.288</td>\n",
              "      <td>33</td>\n",
              "    </tr>\n",
              "  </tbody>\n",
              "</table>\n",
              "</div>\n",
              "      <button class=\"colab-df-convert\" onclick=\"convertToInteractive('df-0e283042-3373-4430-9cac-aaea4c6540a9')\"\n",
              "              title=\"Convert this dataframe to an interactive table.\"\n",
              "              style=\"display:none;\">\n",
              "        \n",
              "  <svg xmlns=\"http://www.w3.org/2000/svg\" height=\"24px\"viewBox=\"0 0 24 24\"\n",
              "       width=\"24px\">\n",
              "    <path d=\"M0 0h24v24H0V0z\" fill=\"none\"/>\n",
              "    <path d=\"M18.56 5.44l.94 2.06.94-2.06 2.06-.94-2.06-.94-.94-2.06-.94 2.06-2.06.94zm-11 1L8.5 8.5l.94-2.06 2.06-.94-2.06-.94L8.5 2.5l-.94 2.06-2.06.94zm10 10l.94 2.06.94-2.06 2.06-.94-2.06-.94-.94-2.06-.94 2.06-2.06.94z\"/><path d=\"M17.41 7.96l-1.37-1.37c-.4-.4-.92-.59-1.43-.59-.52 0-1.04.2-1.43.59L10.3 9.45l-7.72 7.72c-.78.78-.78 2.05 0 2.83L4 21.41c.39.39.9.59 1.41.59.51 0 1.02-.2 1.41-.59l7.78-7.78 2.81-2.81c.8-.78.8-2.07 0-2.86zM5.41 20L4 18.59l7.72-7.72 1.47 1.35L5.41 20z\"/>\n",
              "  </svg>\n",
              "      </button>\n",
              "      \n",
              "  <style>\n",
              "    .colab-df-container {\n",
              "      display:flex;\n",
              "      flex-wrap:wrap;\n",
              "      gap: 12px;\n",
              "    }\n",
              "\n",
              "    .colab-df-convert {\n",
              "      background-color: #E8F0FE;\n",
              "      border: none;\n",
              "      border-radius: 50%;\n",
              "      cursor: pointer;\n",
              "      display: none;\n",
              "      fill: #1967D2;\n",
              "      height: 32px;\n",
              "      padding: 0 0 0 0;\n",
              "      width: 32px;\n",
              "    }\n",
              "\n",
              "    .colab-df-convert:hover {\n",
              "      background-color: #E2EBFA;\n",
              "      box-shadow: 0px 1px 2px rgba(60, 64, 67, 0.3), 0px 1px 3px 1px rgba(60, 64, 67, 0.15);\n",
              "      fill: #174EA6;\n",
              "    }\n",
              "\n",
              "    [theme=dark] .colab-df-convert {\n",
              "      background-color: #3B4455;\n",
              "      fill: #D2E3FC;\n",
              "    }\n",
              "\n",
              "    [theme=dark] .colab-df-convert:hover {\n",
              "      background-color: #434B5C;\n",
              "      box-shadow: 0px 1px 3px 1px rgba(0, 0, 0, 0.15);\n",
              "      filter: drop-shadow(0px 1px 2px rgba(0, 0, 0, 0.3));\n",
              "      fill: #FFFFFF;\n",
              "    }\n",
              "  </style>\n",
              "\n",
              "      <script>\n",
              "        const buttonEl =\n",
              "          document.querySelector('#df-0e283042-3373-4430-9cac-aaea4c6540a9 button.colab-df-convert');\n",
              "        buttonEl.style.display =\n",
              "          google.colab.kernel.accessAllowed ? 'block' : 'none';\n",
              "\n",
              "        async function convertToInteractive(key) {\n",
              "          const element = document.querySelector('#df-0e283042-3373-4430-9cac-aaea4c6540a9');\n",
              "          const dataTable =\n",
              "            await google.colab.kernel.invokeFunction('convertToInteractive',\n",
              "                                                     [key], {});\n",
              "          if (!dataTable) return;\n",
              "\n",
              "          const docLinkHtml = 'Like what you see? Visit the ' +\n",
              "            '<a target=\"_blank\" href=https://colab.research.google.com/notebooks/data_table.ipynb>data table notebook</a>'\n",
              "            + ' to learn more about interactive tables.';\n",
              "          element.innerHTML = '';\n",
              "          dataTable['output_type'] = 'display_data';\n",
              "          await google.colab.output.renderOutput(dataTable, element);\n",
              "          const docLink = document.createElement('div');\n",
              "          docLink.innerHTML = docLinkHtml;\n",
              "          element.appendChild(docLink);\n",
              "        }\n",
              "      </script>\n",
              "    </div>\n",
              "  </div>\n",
              "  "
            ]
          },
          "metadata": {},
          "execution_count": 178
        }
      ]
    },
    {
      "cell_type": "code",
      "source": [
        "plt.boxplot(clean_features['Pregnancies'])"
      ],
      "metadata": {
        "colab": {
          "base_uri": "https://localhost:8080/",
          "height": 569
        },
        "id": "uziNau1utTOg",
        "outputId": "4f94c748-ad4e-43c6-f217-915c4a8a18dd"
      },
      "execution_count": 179,
      "outputs": [
        {
          "output_type": "execute_result",
          "data": {
            "text/plain": [
              "{'whiskers': [<matplotlib.lines.Line2D at 0x7ff0a19871c0>,\n",
              "  <matplotlib.lines.Line2D at 0x7ff0a1987460>],\n",
              " 'caps': [<matplotlib.lines.Line2D at 0x7ff0a1987700>,\n",
              "  <matplotlib.lines.Line2D at 0x7ff0a19879a0>],\n",
              " 'boxes': [<matplotlib.lines.Line2D at 0x7ff0a1ab0ee0>],\n",
              " 'medians': [<matplotlib.lines.Line2D at 0x7ff0a1987c40>],\n",
              " 'fliers': [<matplotlib.lines.Line2D at 0x7ff0a1987ee0>],\n",
              " 'means': []}"
            ]
          },
          "metadata": {},
          "execution_count": 179
        },
        {
          "output_type": "display_data",
          "data": {
            "text/plain": [
              "<Figure size 640x480 with 1 Axes>"
            ],
            "image/png": "[encoded data removed]"
          },
          "metadata": {}
        }
      ]
    },
    {
      "cell_type": "code",
      "source": [
        "import pandas as pd\n",
        "import numpy as np\n",
        "\n",
        "def remove_outliers(df, method='iqr', trc='trim'):\n",
        "    \"\"\"\n",
        "    Detects and removes outliers from all columns in the given DataFrame.\n",
        "    \n",
        "    Parameters:\n",
        "    -----------\n",
        "    df : pandas.DataFrame\n",
        "        DataFrame containing the data to remove outliers from.\n",
        "    method : str, optional\n",
        "        Method used to detect outliers. Can be 'iqr' (default) or 'zscore'.\n",
        "    trc : str, optional\n",
        "        Method used to treat outliers. Can be 'trim' (default) or 'cap'.\n",
        "    \n",
        "    Returns:\n",
        "    --------\n",
        "    pandas.DataFrame\n",
        "        DataFrame with the outliers removed.\n",
        "    \"\"\"\n",
        "    # Define a helper function to calculate the IQR for a given column\n",
        "    def calculate_iqr(col):\n",
        "        q1 = np.percentile(col, 25)\n",
        "        q3 = np.percentile(col, 75)\n",
        "        iqr = q3 - q1\n",
        "        return iqr\n",
        "\n",
        "    # Define a helper function to calculate the z-score for a given column\n",
        "    def calculate_zscore(col):\n",
        "        zscore = np.abs((col - col.mean()) / col.std())\n",
        "        return zscore\n",
        "\n",
        "    # Define a helper function to treat outliers using trimming\n",
        "    def treat_outliers_trim(col, iqr):\n",
        "        lower = col.quantile(0.25) - 1.5 * iqr\n",
        "        upper = col.quantile(0.75) + 1.5 * iqr\n",
        "        col_trimmed = col[(col >= lower) & (col <= upper)]\n",
        "        return col_trimmed\n",
        "\n",
        "    # Define a helper function to treat outliers using capping\n",
        "    def treat_outliers_cap(col, iqr):\n",
        "        lower = col.quantile(0.25) - 1.5 * iqr\n",
        "        upper = col.quantile(0.75) + 1.5 * iqr\n",
        "        col_capped = col.clip(lower=lower, upper=upper)\n",
        "        return col_capped\n",
        "\n",
        "    # Loop through all columns and remove outliers\n",
        "    threshold = 3\n",
        "    for col in df.columns:\n",
        "        if col != 'Outcome':\n",
        "            if method == 'iqr':\n",
        "                iqr = calculate_iqr(df[col])\n",
        "                if trc == 'trim':\n",
        "                    df[col] = treat_outliers_trim(df[col], iqr)\n",
        "                elif trc == 'cap':\n",
        "                    df[col] = treat_outliers_cap(df[col], iqr)\n",
        "                else:\n",
        "                    raise ValueError(\"Invalid value for trc. Expected 'trim' or 'cap'.\")\n",
        "            elif method == 'zscore':\n",
        "                zscore = calculate_zscore(df[col])\n",
        "                if trc == 'trim':\n",
        "                    df[col] = df[col][zscore <= threshold]\n",
        "                elif trc == 'cap':\n",
        "                    df[col] = treat_outliers_cap(df[col], iqr)\n",
        "                else:\n",
        "                    raise ValueError(\"Invalid value for trc. Expected 'trim' or 'cap'.\")\n",
        "            else:\n",
        "                raise ValueError(\"Invalid value for method. Expected 'iqr' or 'zscore'.\")\n",
        "    \n",
        "    return df\n"
      ],
      "metadata": {
        "id": "G711idQDk5Ix"
      },
      "execution_count": 59,
      "outputs": []
    },
    {
      "cell_type": "code",
      "source": [
        "df =dataset\n",
        "clean_data = remove_outliers(df, method='iqr', trc='trim')"
      ],
      "metadata": {
        "id": "55jwhanMyFmt"
      },
      "execution_count": 80,
      "outputs": []
    },
    {
      "cell_type": "code",
      "source": [
        "print(df)"
      ],
      "metadata": {
        "colab": {
          "base_uri": "https://localhost:8080/"
        },
        "id": "vf_dsF3jMArJ",
        "outputId": "b2120d5d-09c1-4ebf-c413-b3aebb76432d"
      },
      "execution_count": 81,
      "outputs": [
        {
          "output_type": "stream",
          "name": "stdout",
          "text": [
            "     Pregnancies  Glucose  BloodPressure  SkinThickness  Insulin  BMI  \\\n",
            "0            NaN      NaN            NaN            NaN      NaN  NaN   \n",
            "1            NaN      NaN            NaN            NaN      NaN  NaN   \n",
            "2            NaN      NaN            NaN            NaN      NaN  NaN   \n",
            "3            NaN      NaN            NaN            NaN      NaN  NaN   \n",
            "4            NaN      NaN            NaN            NaN      NaN  NaN   \n",
            "..           ...      ...            ...            ...      ...  ...   \n",
            "763          NaN      NaN            NaN            NaN      NaN  NaN   \n",
            "764          NaN      NaN            NaN            NaN      NaN  NaN   \n",
            "765          NaN      NaN            NaN            NaN      NaN  NaN   \n",
            "766          NaN      NaN            NaN            NaN      NaN  NaN   \n",
            "767          NaN      NaN            NaN            NaN      NaN  NaN   \n",
            "\n",
            "     DiabetesPedigreeFunction  Age  Outcome  \n",
            "0                         NaN  NaN        1  \n",
            "1                         NaN  NaN        0  \n",
            "2                         NaN  NaN        1  \n",
            "3                         NaN  NaN        0  \n",
            "4                         NaN  NaN        1  \n",
            "..                        ...  ...      ...  \n",
            "763                       NaN  NaN        0  \n",
            "764                       NaN  NaN        0  \n",
            "765                       NaN  NaN        0  \n",
            "766                       NaN  NaN        1  \n",
            "767                       NaN  NaN        0  \n",
            "\n",
            "[768 rows x 9 columns]\n"
          ]
        }
      ]
    }
  ]
}