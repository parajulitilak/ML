{
 "cells": [
  {
   "cell_type": "code",
   "execution_count": 1,
   "id": "ac5fe7ef",
   "metadata": {},
   "outputs": [],
   "source": [
    "import numpy as np\n",
    "from sklearn.model_selection import train_test_split\n",
    "from sklearn.datasets import load_diabetes\n",
    "from sklearn.linear_model import LinearRegression\n",
    "from sklearn.metrics import r2_score\n",
    "import time"
   ]
  },
  {
   "cell_type": "code",
   "execution_count": 2,
   "id": "94c0ccfe",
   "metadata": {},
   "outputs": [
    {
     "name": "stdout",
     "output_type": "stream",
     "text": [
      "SHAPE OF X =  (442, 10) \n",
      "SHAPE OF Y =  (442,)\n"
     ]
    }
   ],
   "source": [
    "X,Y = load_diabetes(return_X_y = True)\n",
    "print(\"SHAPE OF X = \",X.shape,\"\\nSHAPE OF Y = \",Y.shape)"
   ]
  },
  {
   "cell_type": "code",
   "execution_count": 3,
   "id": "a6284ac2",
   "metadata": {},
   "outputs": [],
   "source": [
    "X_train, X_test, Y_train, Y_test = train_test_split(X, Y, test_size = 0.2, random_state = 0)"
   ]
  },
  {
   "cell_type": "code",
   "execution_count": 4,
   "id": "f4cb4d38",
   "metadata": {},
   "outputs": [],
   "source": [
    "lr = LinearRegression()"
   ]
  },
  {
   "cell_type": "code",
   "execution_count": 5,
   "id": "950a18da",
   "metadata": {},
   "outputs": [
    {
     "data": {
      "text/html": [
       "<style>#sk-container-id-1 {color: black;background-color: white;}#sk-container-id-1 pre{padding: 0;}#sk-container-id-1 div.sk-toggleable {background-color: white;}#sk-container-id-1 label.sk-toggleable__label {cursor: pointer;display: block;width: 100%;margin-bottom: 0;padding: 0.3em;box-sizing: border-box;text-align: center;}#sk-container-id-1 label.sk-toggleable__label-arrow:before {content: \"▸\";float: left;margin-right: 0.25em;color: #696969;}#sk-container-id-1 label.sk-toggleable__label-arrow:hover:before {color: black;}#sk-container-id-1 div.sk-estimator:hover label.sk-toggleable__label-arrow:before {color: black;}#sk-container-id-1 div.sk-toggleable__content {max-height: 0;max-width: 0;overflow: hidden;text-align: left;background-color: #f0f8ff;}#sk-container-id-1 div.sk-toggleable__content pre {margin: 0.2em;color: black;border-radius: 0.25em;background-color: #f0f8ff;}#sk-container-id-1 input.sk-toggleable__control:checked~div.sk-toggleable__content {max-height: 200px;max-width: 100%;overflow: auto;}#sk-container-id-1 input.sk-toggleable__control:checked~label.sk-toggleable__label-arrow:before {content: \"▾\";}#sk-container-id-1 div.sk-estimator input.sk-toggleable__control:checked~label.sk-toggleable__label {background-color: #d4ebff;}#sk-container-id-1 div.sk-label input.sk-toggleable__control:checked~label.sk-toggleable__label {background-color: #d4ebff;}#sk-container-id-1 input.sk-hidden--visually {border: 0;clip: rect(1px 1px 1px 1px);clip: rect(1px, 1px, 1px, 1px);height: 1px;margin: -1px;overflow: hidden;padding: 0;position: absolute;width: 1px;}#sk-container-id-1 div.sk-estimator {font-family: monospace;background-color: #f0f8ff;border: 1px dotted black;border-radius: 0.25em;box-sizing: border-box;margin-bottom: 0.5em;}#sk-container-id-1 div.sk-estimator:hover {background-color: #d4ebff;}#sk-container-id-1 div.sk-parallel-item::after {content: \"\";width: 100%;border-bottom: 1px solid gray;flex-grow: 1;}#sk-container-id-1 div.sk-label:hover label.sk-toggleable__label {background-color: #d4ebff;}#sk-container-id-1 div.sk-serial::before {content: \"\";position: absolute;border-left: 1px solid gray;box-sizing: border-box;top: 0;bottom: 0;left: 50%;z-index: 0;}#sk-container-id-1 div.sk-serial {display: flex;flex-direction: column;align-items: center;background-color: white;padding-right: 0.2em;padding-left: 0.2em;position: relative;}#sk-container-id-1 div.sk-item {position: relative;z-index: 1;}#sk-container-id-1 div.sk-parallel {display: flex;align-items: stretch;justify-content: center;background-color: white;position: relative;}#sk-container-id-1 div.sk-item::before, #sk-container-id-1 div.sk-parallel-item::before {content: \"\";position: absolute;border-left: 1px solid gray;box-sizing: border-box;top: 0;bottom: 0;left: 50%;z-index: -1;}#sk-container-id-1 div.sk-parallel-item {display: flex;flex-direction: column;z-index: 1;position: relative;background-color: white;}#sk-container-id-1 div.sk-parallel-item:first-child::after {align-self: flex-end;width: 50%;}#sk-container-id-1 div.sk-parallel-item:last-child::after {align-self: flex-start;width: 50%;}#sk-container-id-1 div.sk-parallel-item:only-child::after {width: 0;}#sk-container-id-1 div.sk-dashed-wrapped {border: 1px dashed gray;margin: 0 0.4em 0.5em 0.4em;box-sizing: border-box;padding-bottom: 0.4em;background-color: white;}#sk-container-id-1 div.sk-label label {font-family: monospace;font-weight: bold;display: inline-block;line-height: 1.2em;}#sk-container-id-1 div.sk-label-container {text-align: center;}#sk-container-id-1 div.sk-container {/* jupyter's `normalize.less` sets `[hidden] { display: none; }` but bootstrap.min.css set `[hidden] { display: none !important; }` so we also need the `!important` here to be able to override the default hidden behavior on the sphinx rendered scikit-learn.org. See: https://github.com/scikit-learn/scikit-learn/issues/21755 */display: inline-block !important;position: relative;}#sk-container-id-1 div.sk-text-repr-fallback {display: none;}</style><div id=\"sk-container-id-1\" class=\"sk-top-container\"><div class=\"sk-text-repr-fallback\"><pre>LinearRegression()</pre><b>In a Jupyter environment, please rerun this cell to show the HTML representation or trust the notebook. <br />On GitHub, the HTML representation is unable to render, please try loading this page with nbviewer.org.</b></div><div class=\"sk-container\" hidden><div class=\"sk-item\"><div class=\"sk-estimator sk-toggleable\"><input class=\"sk-toggleable__control sk-hidden--visually\" id=\"sk-estimator-id-1\" type=\"checkbox\" checked><label for=\"sk-estimator-id-1\" class=\"sk-toggleable__label sk-toggleable__label-arrow\">LinearRegression</label><div class=\"sk-toggleable__content\"><pre>LinearRegression()</pre></div></div></div></div></div>"
      ],
      "text/plain": [
       "LinearRegression()"
      ]
     },
     "execution_count": 5,
     "metadata": {},
     "output_type": "execute_result"
    }
   ],
   "source": [
    "lr.fit(X_train,Y_train)"
   ]
  },
  {
   "cell_type": "code",
   "execution_count": 6,
   "id": "330c069f",
   "metadata": {},
   "outputs": [
    {
     "name": "stdout",
     "output_type": "stream",
     "text": [
      "REGRESSION COFFICIENT =  [ -35.55025079 -243.16508959  562.76234744  305.46348218 -662.70290089\n",
      "  324.20738537   24.74879489  170.3249615   731.63743545   43.0309307 ]\n"
     ]
    }
   ],
   "source": [
    "print(\"REGRESSION COFFICIENT = \",lr.coef_)"
   ]
  },
  {
   "cell_type": "code",
   "execution_count": 7,
   "id": "cb89994a",
   "metadata": {},
   "outputs": [
    {
     "name": "stdout",
     "output_type": "stream",
     "text": [
      "INTERRCEPT =  152.5380470138517\n"
     ]
    }
   ],
   "source": [
    "print(\"INTERRCEPT = \", lr.intercept_)"
   ]
  },
  {
   "cell_type": "code",
   "execution_count": 8,
   "id": "1395db1c",
   "metadata": {},
   "outputs": [
    {
     "name": "stdout",
     "output_type": "stream",
     "text": [
      "Total Time =  0.0005619525909423828\n"
     ]
    }
   ],
   "source": [
    "start_time = time.time()\n",
    "Y_pred = lr.predict(X_test)\n",
    "print(\"Total Time = \",(time.time() - start_time))"
   ]
  },
  {
   "cell_type": "code",
   "execution_count": 9,
   "id": "e6b28772",
   "metadata": {},
   "outputs": [
    {
     "data": {
      "text/plain": [
       "0.3322332173106186"
      ]
     },
     "execution_count": 9,
     "metadata": {},
     "output_type": "execute_result"
    }
   ],
   "source": [
    "r2_score(Y_test, Y_pred)"
   ]
  },
  {
   "cell_type": "code",
   "execution_count": 10,
   "id": "3287ac04",
   "metadata": {},
   "outputs": [
    {
     "data": {
      "text/plain": [
       "(353, 10)"
      ]
     },
     "execution_count": 10,
     "metadata": {},
     "output_type": "execute_result"
    }
   ],
   "source": [
    "X_train.shape"
   ]
  },
  {
   "cell_type": "code",
   "execution_count": 11,
   "id": "f0d7813e",
   "metadata": {},
   "outputs": [
    {
     "data": {
      "text/plain": [
       "(353,)"
      ]
     },
     "execution_count": 11,
     "metadata": {},
     "output_type": "execute_result"
    }
   ],
   "source": [
    "Y_train.shape"
   ]
  },
  {
   "cell_type": "code",
   "execution_count": 77,
   "id": "e1a40ae5",
   "metadata": {},
   "outputs": [],
   "source": [
    "import random\n",
    "class mini_batch_GD:\n",
    "    def __init__(self, batch_size, learning_rate = 0.01, epochs = 100):\n",
    "        self.coef_ = None\n",
    "        self.intercept_ = None\n",
    "        self.lr = learning_rate\n",
    "        self.epochs = epochs\n",
    "        self.batch_size = batch_size\n",
    "        \n",
    "    def fit(self, X_train, Y_train):\n",
    "        #initialize your coefficients from initial value as : 0\n",
    "        '''\n",
    "        How do we know, how many coefficients are there in our dataset ?\n",
    "        answer : shape of X_train will give us that information.\n",
    "        \n",
    "        '''\n",
    "        self.intercept_ = 0\n",
    "        self.coef_ = np.ones(X_train.shape[1])\n",
    "        \n",
    "        for i in range(self.epochs):\n",
    "            for j in range(int(X_train.shape[0]/ self.batch_size)):\n",
    "                \n",
    "                #finding a random number in the range of rows \n",
    "                id_rand = random.sample(range(X_train.shape[0]), self.batch_size)\n",
    "\n",
    "                #now let's find prediction on that particular row\n",
    "                Y_hat = np.dot(X_train[id_rand], self.coef_) + self.intercept_\n",
    "\n",
    "                intercept_deri = -2 * np.mean(Y_train[id_rand] - Y_hat)\n",
    "                self.intercept_ = self.intercept_ - (self.lr * intercept_deri)\n",
    "\n",
    "                coef_deri = -2 * np.dot((Y_train[id_rand] - Y_hat), X_train[id_rand])\n",
    "                self.coef_ = self.coef_ - (self.lr * coef_deri)\n",
    "        \n",
    "        print(\"intercept_ = \",self.intercept_)\n",
    "        print(\"\\ncoef_ = \",self.coef_)\n",
    "    \n",
    "    def predict(self, X_test):\n",
    "        return (np.dot(X_test, self.coef_)) + self.intercept_"
   ]
  },
  {
   "cell_type": "code",
   "execution_count": 78,
   "id": "4581b552",
   "metadata": {},
   "outputs": [],
   "source": [
    "my_mini_batch_sgd = mini_batch_GD(batch_size = int(X_train.shape[0]/50),learning_rate = 0.01, epochs = 100)"
   ]
  },
  {
   "cell_type": "code",
   "execution_count": 79,
   "id": "623b05a1",
   "metadata": {},
   "outputs": [
    {
     "name": "stdout",
     "output_type": "stream",
     "text": [
      "intercept_ =  151.4151408560916\n",
      "\n",
      "coef_ =  [  -5.51103913 -163.62082664  482.3865755   262.75154884  -45.1765548\n",
      " -113.58147704 -222.47697672  138.02876828  393.03288681  110.19502707]\n"
     ]
    }
   ],
   "source": [
    "my_mini_batch_sgd.fit(X_train, Y_train)"
   ]
  },
  {
   "cell_type": "code",
   "execution_count": 80,
   "id": "8a48b37c",
   "metadata": {},
   "outputs": [],
   "source": [
    "y_pred = my_mini_batch_sgd.predict(X_test)"
   ]
  },
  {
   "cell_type": "code",
   "execution_count": 81,
   "id": "c98bbf66",
   "metadata": {},
   "outputs": [
    {
     "data": {
      "text/plain": [
       "0.3522608048914091"
      ]
     },
     "execution_count": 81,
     "metadata": {},
     "output_type": "execute_result"
    }
   ],
   "source": [
    "r2_score(Y_test,y_pred)"
   ]
  },
  {
   "cell_type": "markdown",
   "id": "5f481706",
   "metadata": {},
   "source": [
    "# Using sklearn mini batch GD"
   ]
  },
  {
   "cell_type": "code",
   "execution_count": 134,
   "id": "cb717100",
   "metadata": {},
   "outputs": [],
   "source": [
    "from sklearn.linear_model import SGDRegressor"
   ]
  },
  {
   "cell_type": "code",
   "execution_count": 139,
   "id": "5b3ecc08",
   "metadata": {},
   "outputs": [],
   "source": [
    "regre = SGDRegressor(learning_rate = 'constant', eta0 = 0.1)"
   ]
  },
  {
   "cell_type": "code",
   "execution_count": 140,
   "id": "e7a54181",
   "metadata": {},
   "outputs": [],
   "source": [
    "batch_size = 53\n",
    "\n",
    "for i in range(100):\n",
    "    id_rand = random.sample(range(X_train.shape[0]), batch_size)\n",
    "    regre.partial_fit(X_train[id_rand], Y_train[id_rand])"
   ]
  },
  {
   "cell_type": "code",
   "execution_count": 141,
   "id": "399ff5d8",
   "metadata": {},
   "outputs": [
    {
     "data": {
      "text/plain": [
       "array([  12.50661909, -140.48745992,  443.55642965,  248.63910209,\n",
       "        -21.40271277,  -84.21144324, -199.94890958,  133.71353   ,\n",
       "        352.93209983,  133.64505802])"
      ]
     },
     "execution_count": 141,
     "metadata": {},
     "output_type": "execute_result"
    }
   ],
   "source": [
    "regre.coef_"
   ]
  },
  {
   "cell_type": "code",
   "execution_count": 142,
   "id": "ac178cec",
   "metadata": {},
   "outputs": [
    {
     "data": {
      "text/plain": [
       "array([153.64731218])"
      ]
     },
     "execution_count": 142,
     "metadata": {},
     "output_type": "execute_result"
    }
   ],
   "source": [
    "regre.intercept_"
   ]
  },
  {
   "cell_type": "code",
   "execution_count": 143,
   "id": "821e91ef",
   "metadata": {},
   "outputs": [],
   "source": [
    "y_pred = regre.predict(X_train)"
   ]
  },
  {
   "cell_type": "code",
   "execution_count": 144,
   "id": "575c8b99",
   "metadata": {},
   "outputs": [
    {
     "data": {
      "text/plain": [
       "0.5283948904626186"
      ]
     },
     "execution_count": 144,
     "metadata": {},
     "output_type": "execute_result"
    }
   ],
   "source": [
    "r2_score(Y_train, y_pred)"
   ]
  }
 ],
 "metadata": {
  "kernelspec": {
   "display_name": "Python 3 (ipykernel)",
   "language": "python",
   "name": "python3"
  },
  "language_info": {
   "codemirror_mode": {
    "name": "ipython",
    "version": 3
   },
   "file_extension": ".py",
   "mimetype": "text/x-python",
   "name": "python",
   "nbconvert_exporter": "python",
   "pygments_lexer": "ipython3",
   "version": "3.10.9"
  }
 },
 "nbformat": 4,
 "nbformat_minor": 5
}
