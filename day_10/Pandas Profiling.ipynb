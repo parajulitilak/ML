{
 "cells": [
  {
   "cell_type": "code",
   "execution_count": 1,
   "id": "f01d2776",
   "metadata": {},
   "outputs": [],
   "source": [
    "import pandas as pd"
   ]
  },
  {
   "cell_type": "code",
   "execution_count": 2,
   "id": "eac0e605",
   "metadata": {},
   "outputs": [],
   "source": [
    "dataframe = pd.read_csv('titanic.csv')"
   ]
  },
  {
   "cell_type": "code",
   "execution_count": 3,
   "id": "b6ab16ce",
   "metadata": {},
   "outputs": [
    {
     "data": {
      "text/html": [
       "<div>\n",
       "<style scoped>\n",
       "    .dataframe tbody tr th:only-of-type {\n",
       "        vertical-align: middle;\n",
       "    }\n",
       "\n",
       "    .dataframe tbody tr th {\n",
       "        vertical-align: top;\n",
       "    }\n",
       "\n",
       "    .dataframe thead th {\n",
       "        text-align: right;\n",
       "    }\n",
       "</style>\n",
       "<table border=\"1\" class=\"dataframe\">\n",
       "  <thead>\n",
       "    <tr style=\"text-align: right;\">\n",
       "      <th></th>\n",
       "      <th>PassengerId</th>\n",
       "      <th>Survived</th>\n",
       "      <th>Pclass</th>\n",
       "      <th>Name</th>\n",
       "      <th>Sex</th>\n",
       "      <th>Age</th>\n",
       "      <th>SibSp</th>\n",
       "      <th>Parch</th>\n",
       "      <th>Ticket</th>\n",
       "      <th>Fare</th>\n",
       "      <th>Cabin</th>\n",
       "      <th>Embarked</th>\n",
       "    </tr>\n",
       "  </thead>\n",
       "  <tbody>\n",
       "    <tr>\n",
       "      <th>0</th>\n",
       "      <td>892</td>\n",
       "      <td>0</td>\n",
       "      <td>3</td>\n",
       "      <td>Kelly, Mr. James</td>\n",
       "      <td>male</td>\n",
       "      <td>34.5</td>\n",
       "      <td>0</td>\n",
       "      <td>0</td>\n",
       "      <td>330911</td>\n",
       "      <td>7.8292</td>\n",
       "      <td>NaN</td>\n",
       "      <td>Q</td>\n",
       "    </tr>\n",
       "    <tr>\n",
       "      <th>1</th>\n",
       "      <td>893</td>\n",
       "      <td>1</td>\n",
       "      <td>3</td>\n",
       "      <td>Wilkes, Mrs. James (Ellen Needs)</td>\n",
       "      <td>female</td>\n",
       "      <td>47.0</td>\n",
       "      <td>1</td>\n",
       "      <td>0</td>\n",
       "      <td>363272</td>\n",
       "      <td>7.0000</td>\n",
       "      <td>NaN</td>\n",
       "      <td>S</td>\n",
       "    </tr>\n",
       "    <tr>\n",
       "      <th>2</th>\n",
       "      <td>894</td>\n",
       "      <td>0</td>\n",
       "      <td>2</td>\n",
       "      <td>Myles, Mr. Thomas Francis</td>\n",
       "      <td>male</td>\n",
       "      <td>62.0</td>\n",
       "      <td>0</td>\n",
       "      <td>0</td>\n",
       "      <td>240276</td>\n",
       "      <td>9.6875</td>\n",
       "      <td>NaN</td>\n",
       "      <td>Q</td>\n",
       "    </tr>\n",
       "    <tr>\n",
       "      <th>3</th>\n",
       "      <td>895</td>\n",
       "      <td>0</td>\n",
       "      <td>3</td>\n",
       "      <td>Wirz, Mr. Albert</td>\n",
       "      <td>male</td>\n",
       "      <td>27.0</td>\n",
       "      <td>0</td>\n",
       "      <td>0</td>\n",
       "      <td>315154</td>\n",
       "      <td>8.6625</td>\n",
       "      <td>NaN</td>\n",
       "      <td>S</td>\n",
       "    </tr>\n",
       "    <tr>\n",
       "      <th>4</th>\n",
       "      <td>896</td>\n",
       "      <td>1</td>\n",
       "      <td>3</td>\n",
       "      <td>Hirvonen, Mrs. Alexander (Helga E Lindqvist)</td>\n",
       "      <td>female</td>\n",
       "      <td>22.0</td>\n",
       "      <td>1</td>\n",
       "      <td>1</td>\n",
       "      <td>3101298</td>\n",
       "      <td>12.2875</td>\n",
       "      <td>NaN</td>\n",
       "      <td>S</td>\n",
       "    </tr>\n",
       "  </tbody>\n",
       "</table>\n",
       "</div>"
      ],
      "text/plain": [
       "   PassengerId  Survived  Pclass  \\\n",
       "0          892         0       3   \n",
       "1          893         1       3   \n",
       "2          894         0       2   \n",
       "3          895         0       3   \n",
       "4          896         1       3   \n",
       "\n",
       "                                           Name     Sex   Age  SibSp  Parch  \\\n",
       "0                              Kelly, Mr. James    male  34.5      0      0   \n",
       "1              Wilkes, Mrs. James (Ellen Needs)  female  47.0      1      0   \n",
       "2                     Myles, Mr. Thomas Francis    male  62.0      0      0   \n",
       "3                              Wirz, Mr. Albert    male  27.0      0      0   \n",
       "4  Hirvonen, Mrs. Alexander (Helga E Lindqvist)  female  22.0      1      1   \n",
       "\n",
       "    Ticket     Fare Cabin Embarked  \n",
       "0   330911   7.8292   NaN        Q  \n",
       "1   363272   7.0000   NaN        S  \n",
       "2   240276   9.6875   NaN        Q  \n",
       "3   315154   8.6625   NaN        S  \n",
       "4  3101298  12.2875   NaN        S  "
      ]
     },
     "execution_count": 3,
     "metadata": {},
     "output_type": "execute_result"
    }
   ],
   "source": [
    "dataframe.head()"
   ]
  },
  {
   "cell_type": "code",
   "execution_count": 4,
   "id": "6d5b88ad",
   "metadata": {},
   "outputs": [
    {
     "name": "stdout",
     "output_type": "stream",
     "text": [
      "Requirement already satisfied: ydata-profiling in /Users/parajulitilak/anaconda3/lib/python3.10/site-packages (4.1.2)\n",
      "Requirement already satisfied: pydantic<1.11,>=1.8.1 in /Users/parajulitilak/anaconda3/lib/python3.10/site-packages (from ydata-profiling) (1.10.7)\n",
      "Requirement already satisfied: numpy<1.24,>=1.16.0 in /Users/parajulitilak/anaconda3/lib/python3.10/site-packages (from ydata-profiling) (1.23.5)\n",
      "Requirement already satisfied: visions[type_image_path]==0.7.5 in /Users/parajulitilak/anaconda3/lib/python3.10/site-packages (from ydata-profiling) (0.7.5)\n",
      "Requirement already satisfied: htmlmin==0.1.12 in /Users/parajulitilak/anaconda3/lib/python3.10/site-packages (from ydata-profiling) (0.1.12)\n",
      "Requirement already satisfied: phik<0.13,>=0.11.1 in /Users/parajulitilak/anaconda3/lib/python3.10/site-packages (from ydata-profiling) (0.12.3)\n",
      "Requirement already satisfied: seaborn<0.13,>=0.10.1 in /Users/parajulitilak/anaconda3/lib/python3.10/site-packages (from ydata-profiling) (0.12.2)\n",
      "Requirement already satisfied: scipy<1.10,>=1.4.1 in /Users/parajulitilak/anaconda3/lib/python3.10/site-packages (from ydata-profiling) (1.9.3)\n",
      "Requirement already satisfied: jinja2<3.2,>=2.11.1 in /Users/parajulitilak/anaconda3/lib/python3.10/site-packages (from ydata-profiling) (3.1.2)\n",
      "Requirement already satisfied: statsmodels<0.14,>=0.13.2 in /Users/parajulitilak/anaconda3/lib/python3.10/site-packages (from ydata-profiling) (0.13.5)\n",
      "Requirement already satisfied: typeguard<2.14,>=2.13.2 in /Users/parajulitilak/anaconda3/lib/python3.10/site-packages (from ydata-profiling) (2.13.3)\n",
      "Requirement already satisfied: imagehash==4.3.1 in /Users/parajulitilak/anaconda3/lib/python3.10/site-packages (from ydata-profiling) (4.3.1)\n",
      "Requirement already satisfied: tqdm<4.65,>=4.48.2 in /Users/parajulitilak/anaconda3/lib/python3.10/site-packages (from ydata-profiling) (4.64.1)\n",
      "Requirement already satisfied: pandas!=1.4.0,<1.6,>1.1 in /Users/parajulitilak/anaconda3/lib/python3.10/site-packages (from ydata-profiling) (1.5.3)\n",
      "Requirement already satisfied: matplotlib<3.7,>=3.2 in /Users/parajulitilak/anaconda3/lib/python3.10/site-packages (from ydata-profiling) (3.6.3)\n",
      "Requirement already satisfied: multimethod<1.10,>=1.4 in /Users/parajulitilak/anaconda3/lib/python3.10/site-packages (from ydata-profiling) (1.9.1)\n",
      "Requirement already satisfied: PyYAML<6.1,>=5.0.0 in /Users/parajulitilak/anaconda3/lib/python3.10/site-packages (from ydata-profiling) (6.0)\n",
      "Requirement already satisfied: requests<2.29,>=2.24.0 in /Users/parajulitilak/anaconda3/lib/python3.10/site-packages (from ydata-profiling) (2.28.1)\n",
      "Requirement already satisfied: PyWavelets in /Users/parajulitilak/anaconda3/lib/python3.10/site-packages (from imagehash==4.3.1->ydata-profiling) (1.4.1)\n",
      "Requirement already satisfied: pillow in /Users/parajulitilak/anaconda3/lib/python3.10/site-packages (from imagehash==4.3.1->ydata-profiling) (9.4.0)\n",
      "Requirement already satisfied: attrs>=19.3.0 in /Users/parajulitilak/anaconda3/lib/python3.10/site-packages (from visions[type_image_path]==0.7.5->ydata-profiling) (22.1.0)\n",
      "Requirement already satisfied: networkx>=2.4 in /Users/parajulitilak/anaconda3/lib/python3.10/site-packages (from visions[type_image_path]==0.7.5->ydata-profiling) (2.8.4)\n",
      "Requirement already satisfied: tangled-up-in-unicode>=0.0.4 in /Users/parajulitilak/anaconda3/lib/python3.10/site-packages (from visions[type_image_path]==0.7.5->ydata-profiling) (0.2.0)\n",
      "Requirement already satisfied: MarkupSafe>=2.0 in /Users/parajulitilak/anaconda3/lib/python3.10/site-packages (from jinja2<3.2,>=2.11.1->ydata-profiling) (2.1.1)\n",
      "Requirement already satisfied: contourpy>=1.0.1 in /Users/parajulitilak/anaconda3/lib/python3.10/site-packages (from matplotlib<3.7,>=3.2->ydata-profiling) (1.0.5)\n",
      "Requirement already satisfied: fonttools>=4.22.0 in /Users/parajulitilak/anaconda3/lib/python3.10/site-packages (from matplotlib<3.7,>=3.2->ydata-profiling) (4.25.0)\n",
      "Requirement already satisfied: python-dateutil>=2.7 in /Users/parajulitilak/anaconda3/lib/python3.10/site-packages (from matplotlib<3.7,>=3.2->ydata-profiling) (2.8.2)\n",
      "Requirement already satisfied: cycler>=0.10 in /Users/parajulitilak/anaconda3/lib/python3.10/site-packages (from matplotlib<3.7,>=3.2->ydata-profiling) (0.11.0)\n",
      "Requirement already satisfied: packaging>=20.0 in /Users/parajulitilak/anaconda3/lib/python3.10/site-packages (from matplotlib<3.7,>=3.2->ydata-profiling) (22.0)\n",
      "Requirement already satisfied: pyparsing>=2.2.1 in /Users/parajulitilak/anaconda3/lib/python3.10/site-packages (from matplotlib<3.7,>=3.2->ydata-profiling) (3.0.9)\n",
      "Requirement already satisfied: kiwisolver>=1.0.1 in /Users/parajulitilak/anaconda3/lib/python3.10/site-packages (from matplotlib<3.7,>=3.2->ydata-profiling) (1.4.4)\n",
      "Requirement already satisfied: pytz>=2020.1 in /Users/parajulitilak/anaconda3/lib/python3.10/site-packages (from pandas!=1.4.0,<1.6,>1.1->ydata-profiling) (2022.7)\n",
      "Requirement already satisfied: joblib>=0.14.1 in /Users/parajulitilak/anaconda3/lib/python3.10/site-packages (from phik<0.13,>=0.11.1->ydata-profiling) (1.1.1)\n",
      "Requirement already satisfied: typing-extensions>=4.2.0 in /Users/parajulitilak/anaconda3/lib/python3.10/site-packages (from pydantic<1.11,>=1.8.1->ydata-profiling) (4.4.0)\n",
      "Requirement already satisfied: idna<4,>=2.5 in /Users/parajulitilak/anaconda3/lib/python3.10/site-packages (from requests<2.29,>=2.24.0->ydata-profiling) (3.4)\n",
      "Requirement already satisfied: urllib3<1.27,>=1.21.1 in /Users/parajulitilak/anaconda3/lib/python3.10/site-packages (from requests<2.29,>=2.24.0->ydata-profiling) (1.26.14)\n",
      "Requirement already satisfied: certifi>=2017.4.17 in /Users/parajulitilak/anaconda3/lib/python3.10/site-packages (from requests<2.29,>=2.24.0->ydata-profiling) (2022.12.7)\n",
      "Requirement already satisfied: charset-normalizer<3,>=2 in /Users/parajulitilak/anaconda3/lib/python3.10/site-packages (from requests<2.29,>=2.24.0->ydata-profiling) (2.0.4)\n",
      "Requirement already satisfied: patsy>=0.5.2 in /Users/parajulitilak/anaconda3/lib/python3.10/site-packages (from statsmodels<0.14,>=0.13.2->ydata-profiling) (0.5.3)\n",
      "Requirement already satisfied: six in /Users/parajulitilak/anaconda3/lib/python3.10/site-packages (from patsy>=0.5.2->statsmodels<0.14,>=0.13.2->ydata-profiling) (1.16.0)\n"
     ]
    }
   ],
   "source": [
    "!pip install ydata-profiling"
   ]
  },
  {
   "cell_type": "code",
   "execution_count": 8,
   "id": "58421c0a",
   "metadata": {},
   "outputs": [
    {
     "name": "stderr",
     "output_type": "stream",
     "text": [
      "Summarize dataset: 100%|█████████████| 47/47 [00:01<00:00, 34.63it/s, Completed]\n",
      "Generate report structure: 100%|██████████████████| 1/1 [00:00<00:00,  1.02it/s]\n",
      "Render HTML: 100%|████████████████████████████████| 1/1 [00:00<00:00,  3.13it/s]\n",
      "Export report to file: 100%|████████████████████| 1/1 [00:00<00:00, 1154.82it/s]\n"
     ]
    }
   ],
   "source": [
    "from pandas_profiling import ProfileReport\n",
    "profile = ProfileReport(dataframe)\n",
    "profile.to_file(output_file = 'myoutput.html')"
   ]
  },
  {
   "cell_type": "code",
   "execution_count": 6,
   "id": "a844dc07",
   "metadata": {},
   "outputs": [],
   "source": [
    "df2 = pd.read_csv('FINREV_FED_17.csv')"
   ]
  },
  {
   "cell_type": "code",
   "execution_count": 9,
   "id": "4959d296",
   "metadata": {},
   "outputs": [
    {
     "name": "stderr",
     "output_type": "stream",
     "text": [
      "Summarize dataset: 100%|█████████████| 42/42 [00:01<00:00, 31.11it/s, Completed]\n",
      "Generate report structure: 100%|██████████████████| 1/1 [00:00<00:00,  1.47it/s]\n",
      "Render HTML: 100%|████████████████████████████████| 1/1 [00:00<00:00,  3.31it/s]\n",
      "Export report to file: 100%|█████████████████████| 1/1 [00:00<00:00, 731.48it/s]\n"
     ]
    }
   ],
   "source": [
    "from pandas_profiling import ProfileReport\n",
    "profile = ProfileReport(df2)\n",
    "profile.to_file(output_file = 'myoutput2.html')"
   ]
  },
  {
   "cell_type": "code",
   "execution_count": null,
   "id": "63a93c00",
   "metadata": {},
   "outputs": [],
   "source": []
  }
 ],
 "metadata": {
  "kernelspec": {
   "display_name": "Python 3 (ipykernel)",
   "language": "python",
   "name": "python3"
  },
  "language_info": {
   "codemirror_mode": {
    "name": "ipython",
    "version": 3
   },
   "file_extension": ".py",
   "mimetype": "text/x-python",
   "name": "python",
   "nbconvert_exporter": "python",
   "pygments_lexer": "ipython3",
   "version": "3.10.9"
  }
 },
 "nbformat": 4,
 "nbformat_minor": 5
}
